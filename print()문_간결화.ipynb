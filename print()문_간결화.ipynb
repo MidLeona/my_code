{
 "cells": [
  {
   "cell_type": "markdown",
   "metadata": {},
   "source": [
    "https://github.com/MidLeona/programmers_test/blob/main/%ED%96%89%EB%A0%AC%EC%9D%98_%EB%8D%A7%EC%85%88.ipynb\n",
    "\n",
    "이거 보면서 생각한건데, 만약 a와 b를 인자로 가지는 자연수 x개의 함수가 있는데 이 함수들이 'solution1', 'solution2', 'solution3',...,'sloutonx' 와 같이 함수명에 일정한 패턴을 가지고 있다고 하자.\n",
    "\n",
    "이 함수들의 반환값을 모두 출력하려면, 클래식하게는\n",
    "print(solution1(a,b),solution2(a,b),solution3(a,b),...,solutionx(a,b),sep='\\n')\n",
    "이런 식으로 써야할텐데 이 경우 x의 값에 따라 print()문이 너무 길어질 수도 있다. print()문을 간결하게 만드는 방법은 없을까?"
   ]
  },
  {
   "cell_type": "code",
   "execution_count": null,
   "metadata": {},
   "outputs": [],
   "source": [
    "#일단 가장 단순해 보이는건\n",
    "functions = [solution1, solution2, solution3, solution4, ... ,solutionx]\n",
    "\n",
    "for func in functions:\n",
    "    print(func(a, b))\n",
    "\n",
    "#근데 이건 사실상 의미없는 수준인데"
   ]
  },
  {
   "cell_type": "code",
   "execution_count": null,
   "metadata": {},
   "outputs": [],
   "source": [
    "#만약 자연수 x의 값을 알고 있다면\n",
    "functions = [globals()[f'solution{i}'] for i in range(1, x)]\n",
    "\n",
    "for func in functions:\n",
    "    print(func(a, b))"
   ]
  },
  {
   "cell_type": "code",
   "execution_count": null,
   "metadata": {},
   "outputs": [],
   "source": [
    "#x값을 모르는 경우\n",
    "functions = []\n",
    "all_functions = globals().copy()\n",
    "\n",
    "prefix = 'solution'\n",
    "for name, func in all_functions.items():\n",
    "    if name.startswith(prefix):\n",
    "        functions.append(func)\n",
    "\n",
    "for func in functions:\n",
    "    print(func(a, b))"
   ]
  }
 ],
 "metadata": {
  "kernelspec": {
   "display_name": "Python 3",
   "language": "python",
   "name": "python3"
  },
  "language_info": {
   "codemirror_mode": {
    "name": "ipython",
    "version": 3
   },
   "file_extension": ".py",
   "mimetype": "text/x-python",
   "name": "python",
   "nbconvert_exporter": "python",
   "pygments_lexer": "ipython3",
   "version": "3.12.4"
  }
 },
 "nbformat": 4,
 "nbformat_minor": 2
}
