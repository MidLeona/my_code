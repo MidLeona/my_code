{
  "nbformat": 4,
  "nbformat_minor": 0,
  "metadata": {
    "colab": {
      "provenance": [],
      "authorship_tag": "ABX9TyOBat53LnfOjRaMcL1dkcFI"
    },
    "kernelspec": {
      "name": "python3",
      "display_name": "Python 3"
    },
    "language_info": {
      "name": "python"
    }
  },
  "cells": [
    {
      "cell_type": "code",
      "execution_count": null,
      "metadata": {
        "id": "RidjUwUGPNUg"
      },
      "outputs": [],
      "source": [
        "list = [1,2,3,4,5]\n",
        "list +=[6]\n",
        "print(list)\n",
        "\n",
        "list[len(list):] = [7]\n",
        "print(list)\n",
        "\n",
        "list[1:3] = []\n",
        "print(list)\n",
        "\n",
        "list[:] = [1,2,4,5]\n",
        "print(list)\n",
        "\n",
        "list[2:2] = [3]\n",
        "print(list)"
      ]
    }
  ]
}