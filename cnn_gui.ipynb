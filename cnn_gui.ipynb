{
 "cells": [
  {
   "cell_type": "code",
   "execution_count": 2,
   "metadata": {},
   "outputs": [
    {
     "name": "stderr",
     "output_type": "stream",
     "text": [
      "WARNING:absl:Compiled the loaded model, but the compiled metrics have yet to be built. `model.compile_metrics` will be empty until you train or evaluate the model.\n",
      "WARNING:absl:Error in loading the saved optimizer state. As a result, your model is starting with a freshly initialized optimizer.\n"
     ]
    },
    {
     "name": "stdout",
     "output_type": "stream",
     "text": [
      "\u001b[1m1/1\u001b[0m \u001b[32m━━━━━━━━━━━━━━━━━━━━\u001b[0m\u001b[37m\u001b[0m \u001b[1m0s\u001b[0m 135ms/step\n"
     ]
    }
   ],
   "source": [
    "import tensorflow as tf\n",
    "from tensorflow.keras.models import load_model\n",
    "from tkinter import Tk, Label, Button, filedialog\n",
    "from PIL import Image, ImageTk\n",
    "import numpy as np\n",
    "\n",
    "# 모델 불러오기\n",
    "model_path = 'forest_vs_desert_model.h5'\n",
    "model = load_model(model_path)\n",
    "\n",
    "# 이미지 전처리 함수\n",
    "def preprocess_image(image_path):\n",
    "    img = Image.open(image_path)\n",
    "    img = img.resize((64, 64))\n",
    "    img = np.array(img)\n",
    "    img = img / 255.0\n",
    "    img = np.expand_dims(img, axis=0)\n",
    "    return img\n",
    "\n",
    "# 예측 함수\n",
    "def predict_image():\n",
    "    file_path = filedialog.askopenfilename()\n",
    "    if file_path:\n",
    "        img = preprocess_image(file_path)\n",
    "        prediction = model.predict(img)\n",
    "        class_label = 'Desert' if prediction < 0.5 else 'Forest'\n",
    "        result_label.config(text=f\"Prediction: {class_label}\")\n",
    "        display_image(file_path)\n",
    "\n",
    "# 이미지 표시 함수\n",
    "def display_image(image_path):\n",
    "    img = Image.open(image_path)\n",
    "    img = img.resize((250, 250))\n",
    "    img = ImageTk.PhotoImage(img)\n",
    "    image_label.config(image=img)\n",
    "    image_label.image = img\n",
    "\n",
    "# Tkinter GUI 설정\n",
    "root = Tk()\n",
    "root.title(\"Forest vs Desert Classifier\")\n",
    "\n",
    "# 버튼과 레이블 설정\n",
    "upload_button = Button(root, text=\"Upload Image\", command=predict_image)\n",
    "upload_button.pack()\n",
    "\n",
    "image_label = Label(root)\n",
    "image_label.pack()\n",
    "\n",
    "result_label = Label(root, text=\"\")\n",
    "result_label.pack()\n",
    "\n",
    "# GUI 실행\n",
    "root.mainloop()\n"
   ]
  }
 ],
 "metadata": {
  "kernelspec": {
   "display_name": "MidLeona",
   "language": "python",
   "name": "python3"
  },
  "language_info": {
   "codemirror_mode": {
    "name": "ipython",
    "version": 3
   },
   "file_extension": ".py",
   "mimetype": "text/x-python",
   "name": "python",
   "nbconvert_exporter": "python",
   "pygments_lexer": "ipython3",
   "version": "3.10.14"
  }
 },
 "nbformat": 4,
 "nbformat_minor": 2
}
