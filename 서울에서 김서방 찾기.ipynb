{
  "cells": [
    {
      "cell_type": "code",
      "source": [
        "def solution(seoul):\n",
        "    for i in range(len(seoul)):\n",
        "        if seoul[i] == 'Kim':\n",
        "            answer = '김서방은 '+ str(i) +'에 있다'\n",
        "            return answer\n",
        "\n",
        "seoul = ['Kim','Go']\n",
        "print(solution(seoul))"
      ],
      "metadata": {
        "id": "AkLiaYqEIYs5",
        "outputId": "76e0a3c5-20c7-415b-a7b1-8519d0f0a636",
        "colab": {
          "base_uri": "https://localhost:8080/"
        }
      },
      "execution_count": 31,
      "outputs": [
        {
          "output_type": "stream",
          "name": "stdout",
          "text": [
            "김서방은 0에 있다\n"
          ]
        }
      ]
    },
    {
      "cell_type": "code",
      "source": [
        "def findKim(seoul):\n",
        "    return '김서방은 '+ str(seoul.index('Kim')) + '에 있다'\n",
        "print(findKim([\"Queen\", \"Tod\", \"Kim\"]))"
      ],
      "metadata": {
        "id": "coXoCQjzJW5c",
        "outputId": "bcc40796-fb39-4dba-ac8e-bde5b3750b78",
        "colab": {
          "base_uri": "https://localhost:8080/"
        }
      },
      "execution_count": 30,
      "outputs": [
        {
          "output_type": "stream",
          "name": "stdout",
          "text": [
            "김서방은 2에 있다\n"
          ]
        }
      ]
    }
  ],
  "metadata": {
    "colab": {
      "name": "scratchpad",
      "provenance": []
    },
    "kernelspec": {
      "display_name": "Python 3",
      "name": "python3"
    }
  },
  "nbformat": 4,
  "nbformat_minor": 0
}